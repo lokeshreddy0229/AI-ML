{
  "nbformat": 4,
  "nbformat_minor": 0,
  "metadata": {
    "colab": {
      "provenance": [],
      "authorship_tag": "ABX9TyMs4/NzbGxGgvxiZnvJB3n8",
      "include_colab_link": true
    },
    "kernelspec": {
      "name": "python3",
      "display_name": "Python 3"
    },
    "language_info": {
      "name": "python"
    }
  },
  "cells": [
    {
      "cell_type": "markdown",
      "metadata": {
        "id": "view-in-github",
        "colab_type": "text"
      },
      "source": [
        "<a href=\"https://colab.research.google.com/github/lokeshreddy0229/ARTIFICIAL-INTELLIGENCE-AND-MACHINE-LEARNING/blob/main/ASSIGNMENT1.ipynb\" target=\"_parent\"><img src=\"https://colab.research.google.com/assets/colab-badge.svg\" alt=\"Open In Colab\"/></a>"
      ]
    },
    {
      "cell_type": "code",
      "execution_count": 8,
      "metadata": {
        "id": "DxOhuPcWIYK_"
      },
      "outputs": [],
      "source": [
        "# Task1-Create two lists and join those two lists"
      ]
    },
    {
      "cell_type": "code",
      "source": [
        "list1=[1,5,6,9,0]"
      ],
      "metadata": {
        "id": "NePH4H1xInPG"
      },
      "execution_count": 17,
      "outputs": []
    },
    {
      "cell_type": "code",
      "source": [
        "list2=[12,4,7,9,3]"
      ],
      "metadata": {
        "id": "vgvMMxmlI2jP"
      },
      "execution_count": 58,
      "outputs": []
    },
    {
      "cell_type": "code",
      "source": [
        "list3=list1+list2"
      ],
      "metadata": {
        "id": "PzBh8QQJMare"
      },
      "execution_count": 59,
      "outputs": []
    },
    {
      "cell_type": "code",
      "source": [
        "print('join list: '+str(list3))"
      ],
      "metadata": {
        "colab": {
          "base_uri": "https://localhost:8080/"
        },
        "id": "7RlkFPQnI_aV",
        "outputId": "3e755faa-d768-43c3-e630-eff77c0d46d1"
      },
      "execution_count": 60,
      "outputs": [
        {
          "output_type": "stream",
          "name": "stdout",
          "text": [
            "join list: [1, 5, 6, 9, 0, 12, 4, 7, 9, 3]\n"
          ]
        }
      ]
    },
    {
      "cell_type": "code",
      "source": [
        "# Task2-with 'if' statement find the even numbers"
      ],
      "metadata": {
        "id": "MO6FnLTxPLaV"
      },
      "execution_count": 61,
      "outputs": []
    },
    {
      "cell_type": "code",
      "source": [
        "a = int(input(\"Enter a : \"))\n",
        "if((a%2)==0):\n",
        "  print(\"even\")\n",
        "else:\n",
        "    print(\"odd\")"
      ],
      "metadata": {
        "colab": {
          "base_uri": "https://localhost:8080/"
        },
        "id": "YrNO-9UGPeaP",
        "outputId": "8bc57c08-9b98-4eab-b080-bc958958c60c"
      },
      "execution_count": 62,
      "outputs": [
        {
          "output_type": "stream",
          "name": "stdout",
          "text": [
            "Enter a : 6\n",
            "even\n"
          ]
        }
      ]
    },
    {
      "cell_type": "code",
      "source": [
        "# Task3-create a dictionary with 3 keys and 2 values for each key"
      ],
      "metadata": {
        "id": "EgpJOWQqNBpA"
      },
      "execution_count": 63,
      "outputs": []
    },
    {
      "cell_type": "code",
      "source": [
        "demo = {'first':[2,7],\n",
        "         'second':[8,9],\n",
        "         'third':[6,5]}"
      ],
      "metadata": {
        "id": "7gGwz3JPNVct"
      },
      "execution_count": 64,
      "outputs": []
    },
    {
      "cell_type": "markdown",
      "source": [],
      "metadata": {
        "id": "PbV2435HWpHh"
      }
    },
    {
      "cell_type": "code",
      "source": [
        "example=demo['first']"
      ],
      "metadata": {
        "id": "J2a9GiGOOgBw"
      },
      "execution_count": 65,
      "outputs": []
    },
    {
      "cell_type": "code",
      "source": [
        "print(example)"
      ],
      "metadata": {
        "colab": {
          "base_uri": "https://localhost:8080/"
        },
        "id": "Nhg5c8qnO3w1",
        "outputId": "9b6c317b-3c3a-4fb6-b525-2d99b8cd6416"
      },
      "execution_count": 66,
      "outputs": [
        {
          "output_type": "stream",
          "name": "stdout",
          "text": [
            "[2, 7]\n"
          ]
        }
      ]
    },
    {
      "cell_type": "code",
      "source": [
        "# Task4-Create a function with 'if' statement to find odd numbers"
      ],
      "metadata": {
        "id": "2hU0nD_rPA8Q"
      },
      "execution_count": 67,
      "outputs": []
    },
    {
      "cell_type": "code",
      "source": [
        "b=int(input(\"enter b :\"))\n",
        "if((b%2)==0):\n",
        "  print(\"not odd\")\n",
        "else:\n",
        "    print(\"it is odd\")"
      ],
      "metadata": {
        "colab": {
          "base_uri": "https://localhost:8080/"
        },
        "id": "OBEPyNOTXCYb",
        "outputId": "d6b9623f-ac49-4d57-c780-4c73a18577d6"
      },
      "execution_count": 68,
      "outputs": [
        {
          "output_type": "stream",
          "name": "stdout",
          "text": [
            "enter b :3\n",
            "it is odd\n"
          ]
        }
      ]
    },
    {
      "cell_type": "code",
      "source": [
        "# Task5-write a python function to sum all the numbers in the list"
      ],
      "metadata": {
        "id": "sv869PzHVZnp"
      },
      "execution_count": 69,
      "outputs": []
    },
    {
      "cell_type": "code",
      "source": [
        "list=[8,9,7,5,6,]"
      ],
      "metadata": {
        "id": "V8Vj2gJgZXBt"
      },
      "execution_count": 70,
      "outputs": []
    },
    {
      "cell_type": "code",
      "source": [
        "total=sum(list)"
      ],
      "metadata": {
        "id": "_a24323zZdY_"
      },
      "execution_count": 71,
      "outputs": []
    },
    {
      "cell_type": "code",
      "source": [
        "print(\"the sum of list is :\",total)"
      ],
      "metadata": {
        "colab": {
          "base_uri": "https://localhost:8080/"
        },
        "id": "Z3HFsblSZkTA",
        "outputId": "d8a70ea1-b9dc-4a0c-cd9d-eb9aeb87e74c"
      },
      "execution_count": 72,
      "outputs": [
        {
          "output_type": "stream",
          "name": "stdout",
          "text": [
            "the sum of list is : 35\n"
          ]
        }
      ]
    }
  ]
}