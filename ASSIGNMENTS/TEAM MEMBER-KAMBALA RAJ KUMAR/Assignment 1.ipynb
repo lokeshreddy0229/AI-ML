{
  "nbformat": 4,
  "nbformat_minor": 0,
  "metadata": {
    "colab": {
      "provenance": []
    },
    "kernelspec": {
      "name": "python3",
      "display_name": "Python 3"
    },
    "language_info": {
      "name": "python"
    }
  },
  "cells": [
    {
      "cell_type": "code",
      "execution_count": 1,
      "metadata": {
        "id": "Zoz-AjC_nKMS"
      },
      "outputs": [],
      "source": [
        "# Task 1-creat two list and join two lists"
      ]
    },
    {
      "cell_type": "code",
      "source": [
        "test_list1=[8,5,7,2,3]"
      ],
      "metadata": {
        "id": "bUz7fryPvo-V"
      },
      "execution_count": 2,
      "outputs": []
    },
    {
      "cell_type": "code",
      "source": [
        "test_list2=[9,12,1,6,4]"
      ],
      "metadata": {
        "id": "6CCXOFGAw17S"
      },
      "execution_count": 3,
      "outputs": []
    },
    {
      "cell_type": "code",
      "source": [
        "test_list3 = test_list1 + test_list2"
      ],
      "metadata": {
        "id": "o099C7gtxGzD"
      },
      "execution_count": 4,
      "outputs": []
    },
    {
      "cell_type": "code",
      "source": [
        "print(\"concatenated list using + :\" + str(test_list3))"
      ],
      "metadata": {
        "colab": {
          "base_uri": "https://localhost:8080/"
        },
        "id": "-oafwYBpxYmU",
        "outputId": "541a769f-196c-4b0a-bbf8-c421ae67341d"
      },
      "execution_count": 5,
      "outputs": [
        {
          "output_type": "stream",
          "name": "stdout",
          "text": [
            "concatenated list using + :[8, 5, 7, 2, 3, 9, 12, 1, 6, 4]\n"
          ]
        }
      ]
    },
    {
      "cell_type": "code",
      "source": [
        "# task 2- with 'if' statement find the even numbers"
      ],
      "metadata": {
        "id": "4H86yJqwzRe_"
      },
      "execution_count": 6,
      "outputs": []
    },
    {
      "cell_type": "code",
      "source": [
        "num = int(input(\"enter a number:\"))\n",
        "if((num % 2) == 0):\n",
        "    print(\"num is even\")\n",
        "else:\n",
        "    print(\"num is not even\")"
      ],
      "metadata": {
        "colab": {
          "base_uri": "https://localhost:8080/"
        },
        "id": "ezkR7s7szqn2",
        "outputId": "c923cee8-2681-4fcb-d742-d8704d1a2118"
      },
      "execution_count": 7,
      "outputs": [
        {
          "output_type": "stream",
          "name": "stdout",
          "text": [
            "enter a number:6\n",
            "num is even\n"
          ]
        }
      ]
    },
    {
      "cell_type": "code",
      "source": [
        "# task 3- create a dictionary  with 3 keys and 2 valued for each key"
      ],
      "metadata": {
        "id": "lmgXVgNV66pQ"
      },
      "execution_count": 8,
      "outputs": []
    },
    {
      "cell_type": "code",
      "source": [
        "demo = {'first': [9,8],\n",
        "        'second': [7,6],\n",
        "        'third':[4,3]}"
      ],
      "metadata": {
        "id": "5NAlK4wl7roT"
      },
      "execution_count": 9,
      "outputs": []
    },
    {
      "cell_type": "code",
      "source": [
        "example = demo['first']\n",
        "print( example)"
      ],
      "metadata": {
        "colab": {
          "base_uri": "https://localhost:8080/"
        },
        "id": "edQwDGXd8X85",
        "outputId": "09a0d393-38f2-4332-efa2-3788c94766ef"
      },
      "execution_count": 10,
      "outputs": [
        {
          "output_type": "stream",
          "name": "stdout",
          "text": [
            "[9, 8]\n"
          ]
        }
      ]
    },
    {
      "cell_type": "code",
      "source": [
        "# task 4- creat a function with 'if' statement  which  is used to find the odd numbers"
      ],
      "metadata": {
        "id": "QT1Hhn8i8qai"
      },
      "execution_count": 11,
      "outputs": []
    },
    {
      "cell_type": "code",
      "source": [
        "numb = int(input(\"enter a number\"))\n",
        "if((numb % 2) ==0):\n",
        "     print(\"numb is not odd\")\n",
        "else:\n",
        "     print(\"numb is odd\")"
      ],
      "metadata": {
        "colab": {
          "base_uri": "https://localhost:8080/"
        },
        "id": "PdiZQUyuAVwt",
        "outputId": "cb69ca75-68ff-428a-efe2-5632400afe66"
      },
      "execution_count": 13,
      "outputs": [
        {
          "output_type": "stream",
          "name": "stdout",
          "text": [
            "enter a number4\n",
            "numb is not odd\n"
          ]
        }
      ]
    },
    {
      "cell_type": "code",
      "source": [
        "# task 5- write a python function to sum  all the number in a list"
      ],
      "metadata": {
        "id": "HGe4pt7NByKa"
      },
      "execution_count": 14,
      "outputs": []
    },
    {
      "cell_type": "code",
      "source": [
        "list1 = [8,2,3,0,7]"
      ],
      "metadata": {
        "id": "alcT0O7wCP4z"
      },
      "execution_count": 15,
      "outputs": []
    },
    {
      "cell_type": "code",
      "source": [
        "total = sum(list1)"
      ],
      "metadata": {
        "id": "0STpwntAD-ac"
      },
      "execution_count": 16,
      "outputs": []
    },
    {
      "cell_type": "code",
      "source": [
        "print(\"the sum of elements in list :\",total)"
      ],
      "metadata": {
        "colab": {
          "base_uri": "https://localhost:8080/"
        },
        "id": "1UcQBvciEJmS",
        "outputId": "2af0cde9-223b-47f0-c610-67e7bd985fa7"
      },
      "execution_count": 17,
      "outputs": [
        {
          "output_type": "stream",
          "name": "stdout",
          "text": [
            "the sum of elements in list : 20\n"
          ]
        }
      ]
    }
  ]
}