{
  "nbformat": 4,
  "nbformat_minor": 0,
  "metadata": {
    "colab": {
      "provenance": [],
      "authorship_tag": "ABX9TyP+fCPGXbeRRsUPB/KDmR4V",
      "include_colab_link": true
    },
    "kernelspec": {
      "name": "python3",
      "display_name": "Python 3"
    },
    "language_info": {
      "name": "python"
    }
  },
  "cells": [
    {
      "cell_type": "markdown",
      "metadata": {
        "id": "view-in-github",
        "colab_type": "text"
      },
      "source": [
        "<a href=\"https://colab.research.google.com/github/ChittiBhavaniSivaCharan/Artificial-intelligence-and-Machine-learning-/blob/main/Assignment1.ipynb\" target=\"_parent\"><img src=\"https://colab.research.google.com/assets/colab-badge.svg\" alt=\"Open In Colab\"/></a>"
      ]
    },
    {
      "cell_type": "code",
      "execution_count": null,
      "metadata": {
        "id": "_2urD23onJ04"
      },
      "outputs": [],
      "source": [
        "#Task1-Create two lists and join those two lists"
      ]
    },
    {
      "cell_type": "code",
      "source": [
        "test_list1=[1,14,15,6,5]"
      ],
      "metadata": {
        "id": "PxJ2LyIovhoo"
      },
      "execution_count": null,
      "outputs": []
    },
    {
      "cell_type": "code",
      "source": [
        "test_list2=[3,4,7,12,551]"
      ],
      "metadata": {
        "id": "oxZuD6EKwceI"
      },
      "execution_count": null,
      "outputs": []
    },
    {
      "cell_type": "code",
      "source": [
        "test_list3=test_list1+test_list2"
      ],
      "metadata": {
        "id": "jACTcaO2w_Kl"
      },
      "execution_count": null,
      "outputs": []
    },
    {
      "cell_type": "code",
      "source": [
        "print('join list using+:'+str(test_list3))"
      ],
      "metadata": {
        "colab": {
          "base_uri": "https://localhost:8080/"
        },
        "id": "Ko_hGfXMytrd",
        "outputId": "77621031-6db8-4389-ae2c-fdbf7d8cf113"
      },
      "execution_count": null,
      "outputs": [
        {
          "output_type": "stream",
          "name": "stdout",
          "text": [
            "join list using+:[1, 14, 15, 6, 5, 3, 4, 7, 12, 551]\n"
          ]
        }
      ]
    },
    {
      "cell_type": "code",
      "source": [
        "#task2-with'if'statement find the even numbers"
      ],
      "metadata": {
        "id": "Stkla-MbzW4i"
      },
      "execution_count": null,
      "outputs": []
    },
    {
      "cell_type": "code",
      "source": [
        "number=int(input('Enter a number:'))\n",
        "if((number%2)==0):\n",
        "  print(\"even\")\n",
        "else:\n",
        "    print(\"odd\")\n"
      ],
      "metadata": {
        "colab": {
          "base_uri": "https://localhost:8080/"
        },
        "id": "ZCah1IoA2uEh",
        "outputId": "2e1485cd-0800-4015-ad67-104a78473a9a"
      },
      "execution_count": null,
      "outputs": [
        {
          "output_type": "stream",
          "name": "stdout",
          "text": [
            "Enter a number:4\n",
            "even\n"
          ]
        }
      ]
    },
    {
      "cell_type": "code",
      "source": [
        "#task3-create a dictionary with 3 keys and 2 values for each key"
      ],
      "metadata": {
        "id": "4UdGz1SF9nlM"
      },
      "execution_count": null,
      "outputs": []
    },
    {
      "cell_type": "code",
      "source": [
        "demo={'first':[1,2],\n",
        "      'second':[3,4],\n",
        "      'third':[5,6]}"
      ],
      "metadata": {
        "id": "5OAaKEb-7xKN"
      },
      "execution_count": 19,
      "outputs": []
    },
    {
      "cell_type": "code",
      "source": [
        "example=demo['first']"
      ],
      "metadata": {
        "id": "pxvC7gX29WFh"
      },
      "execution_count": 20,
      "outputs": []
    },
    {
      "cell_type": "code",
      "source": [
        "print(example)"
      ],
      "metadata": {
        "colab": {
          "base_uri": "https://localhost:8080/"
        },
        "id": "CHUmmd5IApOO",
        "outputId": "d5270d4f-0a22-45eb-c82e-dd1f09756f3f"
      },
      "execution_count": 21,
      "outputs": [
        {
          "output_type": "stream",
          "name": "stdout",
          "text": [
            "[1, 2]\n"
          ]
        }
      ]
    },
    {
      "cell_type": "code",
      "source": [
        "#task4-create a function with 'if' statement which is used to find the odd numbers"
      ],
      "metadata": {
        "id": "_BPAIhb7Bg-N"
      },
      "execution_count": 22,
      "outputs": []
    },
    {
      "cell_type": "code",
      "source": [
        "numb=int(input(\"Enter a number:\"))\n",
        "if((numb%2)==0):\n",
        "  print(\"Not odd\")\n",
        "else:\n",
        "  print(\"Odd\")"
      ],
      "metadata": {
        "colab": {
          "base_uri": "https://localhost:8080/"
        },
        "id": "30Jdkg-9CXmw",
        "outputId": "13a3f0ce-d1e9-4437-ff4e-d837cc3dc8dd"
      },
      "execution_count": 25,
      "outputs": [
        {
          "output_type": "stream",
          "name": "stdout",
          "text": [
            "Enter a number:15\n",
            "Odd\n"
          ]
        }
      ]
    },
    {
      "cell_type": "code",
      "source": [
        "#task5-write a python function to sum all the numbers in a list\n",
        "# sample list:(8,2,3,0,7)\n",
        "# expected output"
      ],
      "metadata": {
        "id": "p6U6Jo4LDYLD"
      },
      "execution_count": 26,
      "outputs": []
    },
    {
      "cell_type": "code",
      "source": [
        "list1=[8,2,3,0,7]"
      ],
      "metadata": {
        "id": "EZ9gepm4EXdE"
      },
      "execution_count": 27,
      "outputs": []
    },
    {
      "cell_type": "code",
      "source": [
        "total=sum(list1)"
      ],
      "metadata": {
        "id": "nopniJxqEk1g"
      },
      "execution_count": 28,
      "outputs": []
    },
    {
      "cell_type": "code",
      "source": [
        "print(\"the sum of elements in list:\",total)"
      ],
      "metadata": {
        "colab": {
          "base_uri": "https://localhost:8080/"
        },
        "id": "3cihmOfmFQNS",
        "outputId": "c648d124-d5c7-47c9-dcc3-ccfc49df002d"
      },
      "execution_count": 30,
      "outputs": [
        {
          "output_type": "stream",
          "name": "stdout",
          "text": [
            "the sum of elements in list: 20\n"
          ]
        }
      ]
    }
  ]
}