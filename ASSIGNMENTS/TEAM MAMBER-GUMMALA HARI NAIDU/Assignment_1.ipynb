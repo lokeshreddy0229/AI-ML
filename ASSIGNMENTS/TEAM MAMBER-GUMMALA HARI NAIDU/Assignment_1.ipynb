{
  "nbformat": 4,
  "nbformat_minor": 0,
  "metadata": {
    "colab": {
      "provenance": [],
      "include_colab_link": true
    },
    "kernelspec": {
      "name": "python3",
      "display_name": "Python 3"
    },
    "language_info": {
      "name": "python"
    }
  },
  "cells": [
    {
      "cell_type": "markdown",
      "metadata": {
        "id": "view-in-github",
        "colab_type": "text"
      },
      "source": [
        "<a href=\"https://colab.research.google.com/github/HariNaiduG/artificial-intelligence-and-machine-learning/blob/main/Assignment_1.ipynb\" target=\"_parent\"><img src=\"https://colab.research.google.com/assets/colab-badge.svg\" alt=\"Open In Colab\"/></a>"
      ]
    },
    {
      "cell_type": "code",
      "execution_count": null,
      "metadata": {
        "id": "Zoz-AjC_nKMS"
      },
      "outputs": [],
      "source": [
        "# Task 1-creat two list and join two lists"
      ]
    },
    {
      "cell_type": "code",
      "source": [
        "test_list1=[1,14,15,6,5]"
      ],
      "metadata": {
        "id": "bUz7fryPvo-V"
      },
      "execution_count": null,
      "outputs": []
    },
    {
      "cell_type": "code",
      "source": [
        "test_list2=[3,4,7,12,51]"
      ],
      "metadata": {
        "id": "6CCXOFGAw17S"
      },
      "execution_count": null,
      "outputs": []
    },
    {
      "cell_type": "code",
      "source": [
        "test_list3 = test_list1 + test_list2"
      ],
      "metadata": {
        "id": "o099C7gtxGzD"
      },
      "execution_count": null,
      "outputs": []
    },
    {
      "cell_type": "code",
      "source": [
        "print(\"concatenated list using + :\" + str(test_list3))"
      ],
      "metadata": {
        "colab": {
          "base_uri": "https://localhost:8080/"
        },
        "id": "-oafwYBpxYmU",
        "outputId": "58ffd3cf-14a6-4bc9-a5ea-8157016b2367"
      },
      "execution_count": null,
      "outputs": [
        {
          "output_type": "stream",
          "name": "stdout",
          "text": [
            "concatenated list using + :[1, 14, 15, 6, 5, 3, 4, 7, 12, 51]\n"
          ]
        }
      ]
    },
    {
      "cell_type": "code",
      "source": [
        "# task 2- with 'if' statement find the even numbers"
      ],
      "metadata": {
        "id": "4H86yJqwzRe_"
      },
      "execution_count": null,
      "outputs": []
    },
    {
      "cell_type": "code",
      "source": [
        "num = int(input(\"enter a number:\"))\n",
        "if((num % 2) == 0):\n",
        "    print(\"num is even\")\n",
        "else:\n",
        "    print(\"num is not even\")"
      ],
      "metadata": {
        "colab": {
          "base_uri": "https://localhost:8080/"
        },
        "id": "ezkR7s7szqn2",
        "outputId": "718d597d-0462-403a-cf0c-4228d2931193"
      },
      "execution_count": null,
      "outputs": [
        {
          "output_type": "stream",
          "name": "stdout",
          "text": [
            "enter a number:64\n",
            "num is even\n"
          ]
        }
      ]
    },
    {
      "cell_type": "code",
      "source": [
        "# task 3- create a dictionary  with 3 keys and 2 valued for each key"
      ],
      "metadata": {
        "id": "lmgXVgNV66pQ"
      },
      "execution_count": null,
      "outputs": []
    },
    {
      "cell_type": "code",
      "source": [
        "demo = {'first': [1,2],\n",
        "        'second': [3,4],\n",
        "        'third':[5,6]}"
      ],
      "metadata": {
        "id": "5NAlK4wl7roT"
      },
      "execution_count": null,
      "outputs": []
    },
    {
      "cell_type": "code",
      "source": [
        "example = demo['first']\n",
        "print( example)"
      ],
      "metadata": {
        "colab": {
          "base_uri": "https://localhost:8080/"
        },
        "id": "edQwDGXd8X85",
        "outputId": "901f79f5-c9c8-4532-cc1d-fde9098df80f"
      },
      "execution_count": null,
      "outputs": [
        {
          "output_type": "stream",
          "name": "stdout",
          "text": [
            "[1, 2]\n"
          ]
        }
      ]
    },
    {
      "cell_type": "code",
      "source": [
        "# task 4- creat a function with 'if' statement  which  is used to find the odd numbers"
      ],
      "metadata": {
        "id": "QT1Hhn8i8qai"
      },
      "execution_count": null,
      "outputs": []
    },
    {
      "cell_type": "code",
      "source": [
        "numb = int(input(\"enter a number\"))\n",
        "if((numb % 2) ==0):\n",
        "     print(\"numb is not odd\")\n",
        "else:\n",
        "     print(\"numb is odd\")"
      ],
      "metadata": {
        "colab": {
          "base_uri": "https://localhost:8080/"
        },
        "id": "PdiZQUyuAVwt",
        "outputId": "800fafbd-e4ed-47fd-d6ba-d21fc5944f30"
      },
      "execution_count": null,
      "outputs": [
        {
          "output_type": "stream",
          "name": "stdout",
          "text": [
            "enter a number33\n",
            "numb is odd\n"
          ]
        }
      ]
    },
    {
      "cell_type": "code",
      "source": [
        "# task 5- write a python function to sum  all the number in a list"
      ],
      "metadata": {
        "id": "HGe4pt7NByKa"
      },
      "execution_count": null,
      "outputs": []
    },
    {
      "cell_type": "code",
      "source": [
        "list1 = [8,2,3,0,7]"
      ],
      "metadata": {
        "id": "alcT0O7wCP4z"
      },
      "execution_count": null,
      "outputs": []
    },
    {
      "cell_type": "code",
      "source": [
        "total = sum(list1)"
      ],
      "metadata": {
        "id": "0STpwntAD-ac"
      },
      "execution_count": null,
      "outputs": []
    },
    {
      "cell_type": "code",
      "source": [
        "print(\"the sum of elements in list :\",total)"
      ],
      "metadata": {
        "colab": {
          "base_uri": "https://localhost:8080/"
        },
        "id": "1UcQBvciEJmS",
        "outputId": "4b9240d8-44a9-4535-ceca-694601d67bef"
      },
      "execution_count": null,
      "outputs": [
        {
          "output_type": "stream",
          "name": "stdout",
          "text": [
            "the sum of elements in list : 20\n"
          ]
        }
      ]
    }
  ]
}